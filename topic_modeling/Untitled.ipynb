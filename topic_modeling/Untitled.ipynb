{
 "cells": [
  {
   "cell_type": "code",
   "execution_count": 1,
   "metadata": {},
   "outputs": [
    {
     "data": {
      "text/plain": [
       "'/Users/emma/Dropbox/topic_modeling/topic_modeling'"
      ]
     },
     "execution_count": 1,
     "metadata": {},
     "output_type": "execute_result"
    }
   ],
   "source": [
    "pages = list(map(str, range(4)))\n",
    "\n",
    "# change range to 2012,2019 when using cluster\n",
    "year_urls = list(range(2015, 2016))\n",
    "\n",
    "article_links = []\n",
    "\n",
    "start_time = time()\n",
    "requests = 0\n",
    "\n",
    "for year_url in year_urls:\n",
    "\n",
    "    for page in pages:\n",
    "\n",
    "        html_page = urllib.request.urlopen(\n",
    "            \"http://www.thedartmouth.com/search?q=0&page={}&\"\n",
    "            \"ti=0&tg=0&ty=0&ts_month=0&ts_day=0&ts_year={}&\"\n",
    "            \"te_month=0&te_day=0&te_year={}&s=0&au=0&o=0&\"\n",
    "            \"a=1\".format(page, year_url, year_url+1))\n",
    "\n",
    "        # Pause the loop\n",
    "        sleep(randint(8, 15))\n",
    "\n",
    "        # Monitor the requests\n",
    "        requests += 1\n",
    "        elapsed_time = time() - start_time\n",
    "        print('Request:{}; Frequency: {} requests/s'.format(\n",
    "            requests, requests / elapsed_time))\n",
    "        clear_output(wait=True)\n",
    "\n",
    "        soup = BeautifulSoup(html_page, 'html.parser')\n",
    "\n",
    "        links = []\n",
    "        for link in soup.find_all('a'):\n",
    "            links.append(link.get('href'))\n",
    "\n",
    "        for link in links:\n",
    "            if link not in article_links:\n",
    "                if 'article' in link.split('/'):\n",
    "                    article_links.append(link)\n",
    "\n",
    "\n",
    "file = open('article_links.txt', 'w')\n",
    "for article_link in article_links:\n",
    "    file.write(\"{}\\n\".format(article_link))\n",
    "file.close()"
   ]
  },
  {
   "cell_type": "code",
   "execution_count": 11,
   "metadata": {},
   "outputs": [
    {
     "name": "stdout",
     "output_type": "stream",
     "text": [
      "<http.client.HTTPResponse object at 0x10976beb8>\n",
      "<http.client.HTTPResponse object at 0x10977e4a8>\n",
      "<http.client.HTTPResponse object at 0x10977e3c8>\n",
      "<http.client.HTTPResponse object at 0x10977e048>\n"
     ]
    }
   ],
   "source": [
    "from bs4 import BeautifulSoup\n",
    "import urllib.request\n",
    "from time import sleep\n",
    "from random import randint\n",
    "from IPython.core.display import clear_output\n",
    "from time import time\n",
    "\n",
    "pages = list(map(str, range(4)))\n",
    "\n",
    "# change range to 2012,2019 when using cluster\n",
    "year_urls = list(range(2015, 2016))\n",
    "\n",
    "article_links = []\n",
    "\n",
    "start_time = time()\n",
    "requests = 0\n",
    "\n",
    "for year_url in year_urls:\n",
    "\n",
    "    for page in pages:\n",
    "\n",
    "        html_page = urllib.request.urlopen(\n",
    "            \"http://www.thedartmouth.com/search?q=0&page={}&\"\n",
    "            \"ti=0&tg=0&ty=0&ts_month=0&ts_day=0&ts_year={}&\"\n",
    "            \"te_month=0&te_day=0&te_year={}&s=0&au=0&o=0&\"\n",
    "            \"a=1\".format(page, year_url, year_url+1))\n",
    "        print(html_page)"
   ]
  },
  {
   "cell_type": "code",
   "execution_count": 15,
   "metadata": {},
   "outputs": [
    {
     "name": "stdout",
     "output_type": "stream",
     "text": [
      "http://www.thedartmouth.com/search?q=0&page=3&ti=0&tg=0&ty=0&ts_month=0&ts_day=0&ts_year=2015&te_month=0&te_day=0&te_year=2016&s=0&au=0&o=0&a=1\n"
     ]
    }
   ],
   "source": [
    "print(\"http://www.thedartmouth.com/search?q=0&page={}&\"\n",
    "\"ti=0&tg=0&ty=0&ts_month=0&ts_day=0&ts_year={}&\"\n",
    "\"te_month=0&te_day=0&te_year={}&s=0&au=0&o=0&\"\n",
    "\"a=1\".format(page, year_url, year_url+1))"
   ]
  },
  {
   "cell_type": "code",
   "execution_count": 16,
   "metadata": {},
   "outputs": [
    {
     "name": "stdout",
     "output_type": "stream",
     "text": [
      "http://www.thedartmouth.com/search?q=0&page=3&ti=0&tg=0&ty=0&ts_month=0&ts_day=0&ts_year=2015&te_month=0&te_day=0&te_year=2016&s=0&au=0&o=0&a=1\n"
     ]
    }
   ],
   "source": [
    "print('http://www.thedartmouth.com/search?q=0&page=' + page +\n",
    "'&ti=0&tg=0&ty=0&ts_month=0&ts_day=0&ts_year=' + str(year_url) +\n",
    "'&te_month=0&te_day=0&te_year=' + str(year_url+1) + '&s=0&au=0&o=0&a=1')"
   ]
  },
  {
   "cell_type": "code",
   "execution_count": 19,
   "metadata": {},
   "outputs": [
    {
     "data": {
      "text/plain": [
       "2016"
      ]
     },
     "execution_count": 19,
     "metadata": {},
     "output_type": "execute_result"
    }
   ],
   "source": [
    "year_url+1"
   ]
  },
  {
   "cell_type": "code",
   "execution_count": 9,
   "metadata": {},
   "outputs": [
    {
     "data": {
      "text/plain": [
       "['topic_modeling', 'topic_modeling']"
      ]
     },
     "execution_count": 9,
     "metadata": {},
     "output_type": "execute_result"
    }
   ],
   "source": [
    "test = os.getcwd().split('/')[-2:]\n",
    "test"
   ]
  }
 ],
 "metadata": {
  "kernelspec": {
   "display_name": "Python 3",
   "language": "python",
   "name": "python3"
  },
  "language_info": {
   "codemirror_mode": {
    "name": "ipython",
    "version": 3
   },
   "file_extension": ".py",
   "mimetype": "text/x-python",
   "name": "python",
   "nbconvert_exporter": "python",
   "pygments_lexer": "ipython3",
   "version": "3.6.7"
  }
 },
 "nbformat": 4,
 "nbformat_minor": 2
}
